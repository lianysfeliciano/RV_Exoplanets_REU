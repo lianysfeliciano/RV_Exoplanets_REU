{
 "cells": [
  {
   "cell_type": "markdown",
   "id": "59b97848",
   "metadata": {},
   "source": [
    "Here is a remake of my previous notebook "
   ]
  },
  {
   "cell_type": "markdown",
   "id": "d5417d25",
   "metadata": {},
   "source": [
    "TASK: \n",
    "    Choose an order and plot it from one file\n",
    "    Take a look at a few different orders.  In what ways can the absorption lines look \n",
    "       different?\n",
    "    Make a plot with the same order from both files plotted on top of each other\n",
    "    Repeat that for some other orders\n",
    "    Another plot to make: get all of the orders on the same plot"
   ]
  },
  {
   "cell_type": "code",
   "execution_count": 2,
   "id": "e6fdd88c",
   "metadata": {},
   "outputs": [],
   "source": [
    "import numpy as np\n",
    "import matplotlib.pyplot as plt\n",
    "import pandas as pd\n",
    "import os as os\n",
    "from astropy.io import fits\n",
    "from astropy.table import Table "
   ]
  },
  {
   "cell_type": "code",
   "execution_count": 13,
   "id": "1b1241f1",
   "metadata": {},
   "outputs": [
    {
     "ename": "IndentationError",
     "evalue": "unexpected indent (1392527008.py, line 2)",
     "output_type": "error",
     "traceback": [
      "\u001b[0;36m  Input \u001b[0;32mIn [13]\u001b[0;36m\u001b[0m\n\u001b[0;31m    os.listdir(\"path\")\u001b[0m\n\u001b[0m    ^\u001b[0m\n\u001b[0;31mIndentationError\u001b[0m\u001b[0;31m:\u001b[0m unexpected indent\n"
     ]
    }
   ],
   "source": [
    "path='Users/lianysfeliciano/Summer Research 2022/Lianys_Notebook/Raw_Data/'\n",
    " os.listdir(\"path\")\n"
   ]
  },
  {
   "cell_type": "code",
   "execution_count": null,
   "id": "ed68e764",
   "metadata": {},
   "outputs": [],
   "source": []
  }
 ],
 "metadata": {
  "kernelspec": {
   "display_name": "Python 3 (ipykernel)",
   "language": "python",
   "name": "python3"
  },
  "language_info": {
   "codemirror_mode": {
    "name": "ipython",
    "version": 3
   },
   "file_extension": ".py",
   "mimetype": "text/x-python",
   "name": "python",
   "nbconvert_exporter": "python",
   "pygments_lexer": "ipython3",
   "version": "3.9.12"
  }
 },
 "nbformat": 4,
 "nbformat_minor": 5
}
